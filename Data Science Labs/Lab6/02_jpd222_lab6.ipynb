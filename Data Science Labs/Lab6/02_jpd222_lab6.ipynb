{
 "cells": [
  {
   "cell_type": "markdown",
   "metadata": {},
   "source": [
    "<div class=\"alert alert-block alert-info\">\n",
    "<h3>Student Information</h3> Please provide information about yourself.<br>\n",
    "<b>Name</b>: Jishan Desai<br>\n",
    "<b>NetID</b>: jpd222<br>\n",
    "<b>Notes to Grader</b> (optional):<br>\n",
    "<br><br>\n",
    "<b>IMPORTANT</b>\n",
    "Your work will not be graded withour your initials below<br>\n",
    "I certify that this lab represents my own work and I have read the RU academic intergrity policies at<br>\n",
    "<a href=\"https://www.cs.rutgers.edu/academic-integrity/introduction\">https://www.cs.rutgers.edu/academic-integrity/introduction </a><br>\n",
    "<b>Initials</b>:JD     \n",
    "\n",
    "\n",
    "<h3>Grader Notes</h3>\n",
    "<b>Your Grade<b>:<br>\n",
    "<b>Grader Initials</b>:<br>\n",
    "<b>Grader Comments</b> (optional):<br>\n",
    "</div>"
   ]
  },
  {
   "cell_type": "markdown",
   "metadata": {},
   "source": [
    "# Lab 6: Univariate Linear Regression\n",
    "\n",
    "### Due Date: Wednesday November 25, 2020 on or before 11:59 PM\n",
    "\n",
    "In this lab we will work through the process of:\n",
    "1. implementing a univariate linear regression model\n",
    "2. defining, implementing and testing multiple loss functions \n",
    "3. minimizing loss functions using gradient descent\n",
    "4. comparing with python library functions\n",
    "5. Using the model to predict on new data\n"
   ]
  },
  {
   "cell_type": "markdown",
   "metadata": {},
   "source": [
    "## Initialize"
   ]
  },
  {
   "cell_type": "code",
   "execution_count": 1,
   "metadata": {},
   "outputs": [],
   "source": [
    "import pandas as pd\n",
    "import numpy as np\n",
    "import seaborn as sns\n",
    "import matplotlib.pyplot as plt\n",
    "np.random.seed(42)\n",
    "plt.style.use('fivethirtyeight')\n",
    "sns.set()\n",
    "sns.set_context(\"talk\")\n",
    "%matplotlib inline"
   ]
  },
  {
   "cell_type": "markdown",
   "metadata": {},
   "source": [
    "# Univariate Linear Regression\n",
    "In the first task of the lab, we will model linear regression based on a data set that contains grades from CS 205 course in fall 2018. The dataset (with no ID's) contain midterm and final exam grades of Rutgers students (including other assignment grades). \n",
    "\n",
    "# Task 1 - Initialization\n",
    "Read the file into a dataframe and keep only the midtermRaw and FinaRaw columns. We will be doing univariate regression on x=midterm, y=finalExam\n",
    "The goal is to find a model that will allow us to predict the final exam score given the midterm score."
   ]
  },
  {
   "cell_type": "markdown",
   "metadata": {},
   "source": [
    "### Activity 1.1  Read Data"
   ]
  },
  {
   "cell_type": "code",
   "execution_count": 2,
   "metadata": {},
   "outputs": [
    {
     "name": "stdout",
     "output_type": "stream",
     "text": [
      "99\n"
     ]
    },
    {
     "data": {
      "text/html": [
       "<div>\n",
       "<style scoped>\n",
       "    .dataframe tbody tr th:only-of-type {\n",
       "        vertical-align: middle;\n",
       "    }\n",
       "\n",
       "    .dataframe tbody tr th {\n",
       "        vertical-align: top;\n",
       "    }\n",
       "\n",
       "    .dataframe thead th {\n",
       "        text-align: right;\n",
       "    }\n",
       "</style>\n",
       "<table border=\"1\" class=\"dataframe\">\n",
       "  <thead>\n",
       "    <tr style=\"text-align: right;\">\n",
       "      <th></th>\n",
       "      <th>midtermRaw</th>\n",
       "      <th>finalRaw</th>\n",
       "    </tr>\n",
       "  </thead>\n",
       "  <tbody>\n",
       "    <tr>\n",
       "      <th>0</th>\n",
       "      <td>70.0</td>\n",
       "      <td>100.0</td>\n",
       "    </tr>\n",
       "    <tr>\n",
       "      <th>1</th>\n",
       "      <td>76.0</td>\n",
       "      <td>94.0</td>\n",
       "    </tr>\n",
       "    <tr>\n",
       "      <th>2</th>\n",
       "      <td>90.5</td>\n",
       "      <td>95.5</td>\n",
       "    </tr>\n",
       "    <tr>\n",
       "      <th>3</th>\n",
       "      <td>79.0</td>\n",
       "      <td>85.5</td>\n",
       "    </tr>\n",
       "    <tr>\n",
       "      <th>4</th>\n",
       "      <td>66.0</td>\n",
       "      <td>92.5</td>\n",
       "    </tr>\n",
       "    <tr>\n",
       "      <th>5</th>\n",
       "      <td>78.0</td>\n",
       "      <td>91.5</td>\n",
       "    </tr>\n",
       "    <tr>\n",
       "      <th>6</th>\n",
       "      <td>58.5</td>\n",
       "      <td>87.0</td>\n",
       "    </tr>\n",
       "    <tr>\n",
       "      <th>7</th>\n",
       "      <td>73.0</td>\n",
       "      <td>91.0</td>\n",
       "    </tr>\n",
       "    <tr>\n",
       "      <th>8</th>\n",
       "      <td>67.0</td>\n",
       "      <td>90.0</td>\n",
       "    </tr>\n",
       "    <tr>\n",
       "      <th>9</th>\n",
       "      <td>62.5</td>\n",
       "      <td>90.0</td>\n",
       "    </tr>\n",
       "  </tbody>\n",
       "</table>\n",
       "</div>"
      ],
      "text/plain": [
       "   midtermRaw  finalRaw\n",
       "0        70.0     100.0\n",
       "1        76.0      94.0\n",
       "2        90.5      95.5\n",
       "3        79.0      85.5\n",
       "4        66.0      92.5\n",
       "5        78.0      91.5\n",
       "6        58.5      87.0\n",
       "7        73.0      91.0\n",
       "8        67.0      90.0\n",
       "9        62.5      90.0"
      ]
     },
     "execution_count": 2,
     "metadata": {},
     "output_type": "execute_result"
    }
   ],
   "source": [
    "import pandas as pd\n",
    "df = pd.read_csv(\"data/CS439-Spring-19-Grades.csv\")\n",
    "df_cleaned = df[['midtermRaw','finalRaw']]\n",
    "# drop all undefined rows \n",
    "df_cleaned = df_cleaned.dropna()\n",
    "print(len(df_cleaned))\n",
    "df_cleaned.head(10)"
   ]
  },
  {
   "cell_type": "markdown",
   "metadata": {},
   "source": [
    "### Activity 1.2 Normalize Data\n",
    "In this task, you need to normalize data using MinMaxScaler from sklearn.preprocessing. Normalize midterm and final scores to be between 0 and 1. X_scaled_values and Y_scaled_values are the normalized midterm and final exam scores."
   ]
  },
  {
   "cell_type": "code",
   "execution_count": 3,
   "metadata": {},
   "outputs": [
    {
     "name": "stdout",
     "output_type": "stream",
     "text": [
      "[[0.63392857]\n",
      " [0.74107143]\n",
      " [1.        ]\n",
      " [0.79464286]\n",
      " [0.5625    ]\n",
      " [0.77678571]\n",
      " [0.42857143]\n",
      " [0.6875    ]\n",
      " [0.58035714]\n",
      " [0.5       ]\n",
      " [0.75892857]\n",
      " [0.42857143]\n",
      " [0.46428571]\n",
      " [0.48214286]\n",
      " [0.5625    ]\n",
      " [0.32142857]\n",
      " [0.47321429]\n",
      " [0.42857143]\n",
      " [0.50892857]\n",
      " [0.54464286]\n",
      " [0.48214286]\n",
      " [0.5       ]\n",
      " [0.41964286]\n",
      " [0.45535714]\n",
      " [0.52678571]\n",
      " [0.58035714]\n",
      " [0.30357143]\n",
      " [0.63392857]\n",
      " [0.52678571]\n",
      " [0.54464286]\n",
      " [0.42857143]\n",
      " [0.47321429]\n",
      " [0.5625    ]\n",
      " [0.58035714]\n",
      " [0.38392857]\n",
      " [0.66964286]\n",
      " [0.50892857]\n",
      " [0.375     ]\n",
      " [0.59821429]\n",
      " [0.45535714]\n",
      " [0.58035714]\n",
      " [0.41071429]\n",
      " [0.50892857]\n",
      " [0.16964286]\n",
      " [0.33928571]\n",
      " [0.20535714]\n",
      " [0.24107143]\n",
      " [0.33928571]\n",
      " [0.30357143]\n",
      " [0.44642857]\n",
      " [0.38392857]\n",
      " [0.30357143]\n",
      " [0.39285714]\n",
      " [0.36607143]\n",
      " [0.21428571]\n",
      " [0.14285714]\n",
      " [0.61607143]\n",
      " [0.4375    ]\n",
      " [0.30357143]\n",
      " [0.26785714]\n",
      " [0.04464286]\n",
      " [0.35714286]\n",
      " [0.32142857]\n",
      " [0.45089286]\n",
      " [0.3125    ]\n",
      " [0.24107143]\n",
      " [0.375     ]\n",
      " [0.25892857]\n",
      " [0.29464286]\n",
      " [0.36607143]\n",
      " [0.41964286]\n",
      " [0.29464286]\n",
      " [0.1875    ]\n",
      " [0.42857143]\n",
      " [0.09821429]\n",
      " [0.13392857]\n",
      " [0.34821429]\n",
      " [0.29464286]\n",
      " [0.13392857]\n",
      " [0.41964286]\n",
      " [0.40178571]\n",
      " [0.55357143]\n",
      " [0.41964286]\n",
      " [0.27678571]\n",
      " [0.41964286]\n",
      " [0.1875    ]\n",
      " [0.49107143]\n",
      " [0.01785714]\n",
      " [0.        ]\n",
      " [0.27678571]\n",
      " [0.05357143]\n",
      " [0.16071429]\n",
      " [0.33035714]\n",
      " [0.04464286]\n",
      " [0.08928571]\n",
      " [0.35714286]\n",
      " [0.03571429]\n",
      " [0.34821429]\n",
      " [0.3125    ]] [[1.        ]\n",
      " [0.89958159]\n",
      " [0.92468619]\n",
      " [0.75732218]\n",
      " [0.87447699]\n",
      " [0.85774059]\n",
      " [0.78242678]\n",
      " [0.84937238]\n",
      " [0.83263598]\n",
      " [0.83263598]\n",
      " [0.64016736]\n",
      " [0.84100418]\n",
      " [0.71548117]\n",
      " [0.66527197]\n",
      " [0.72384937]\n",
      " [0.73221757]\n",
      " [0.75732218]\n",
      " [0.74895397]\n",
      " [0.78242678]\n",
      " [0.66527197]\n",
      " [0.68200837]\n",
      " [0.77405858]\n",
      " [0.76569038]\n",
      " [0.62343096]\n",
      " [0.74058577]\n",
      " [0.62343096]\n",
      " [0.64853556]\n",
      " [0.69037657]\n",
      " [0.86610879]\n",
      " [0.61506276]\n",
      " [0.65690377]\n",
      " [0.69874477]\n",
      " [0.61506276]\n",
      " [0.38912134]\n",
      " [0.68200837]\n",
      " [0.63179916]\n",
      " [0.59832636]\n",
      " [0.55648536]\n",
      " [0.77405858]\n",
      " [0.62343096]\n",
      " [0.51464435]\n",
      " [0.71548117]\n",
      " [0.58995816]\n",
      " [0.67364017]\n",
      " [0.74895397]\n",
      " [0.33054393]\n",
      " [0.64853556]\n",
      " [0.54811715]\n",
      " [0.38912134]\n",
      " [0.51464435]\n",
      " [0.58995816]\n",
      " [0.60669456]\n",
      " [0.36401674]\n",
      " [0.57322176]\n",
      " [0.58995816]\n",
      " [0.81589958]\n",
      " [0.68200837]\n",
      " [0.44769874]\n",
      " [0.44769874]\n",
      " [0.60669456]\n",
      " [0.64016736]\n",
      " [0.34728033]\n",
      " [0.46443515]\n",
      " [0.49790795]\n",
      " [0.63179916]\n",
      " [0.58995816]\n",
      " [0.39748954]\n",
      " [0.23849372]\n",
      " [0.63179916]\n",
      " [0.58995816]\n",
      " [0.58158996]\n",
      " [0.50627615]\n",
      " [0.29707113]\n",
      " [0.69874477]\n",
      " [0.28870293]\n",
      " [0.31380753]\n",
      " [0.68200837]\n",
      " [0.48117155]\n",
      " [0.41422594]\n",
      " [0.51464435]\n",
      " [0.52301255]\n",
      " [0.70711297]\n",
      " [0.59832636]\n",
      " [0.21338912]\n",
      " [0.69874477]\n",
      " [0.49790795]\n",
      " [0.49790795]\n",
      " [0.17991632]\n",
      " [0.33891213]\n",
      " [0.65690377]\n",
      " [0.25523013]\n",
      " [0.37238494]\n",
      " [0.80753138]\n",
      " [0.28033473]\n",
      " [0.        ]\n",
      " [0.31380753]\n",
      " [0.12970711]\n",
      " [0.40585774]\n",
      " [0.43096234]]\n"
     ]
    }
   ],
   "source": [
    "# BEGIN SOLUTION\n",
    "from sklearn.preprocessing import MinMaxScaler\n",
    "scaler = MinMaxScaler()\n",
    "X_scaled_values = scaler.fit_transform(df_cleaned[['midtermRaw']])\n",
    "Y_scaled_values = scaler.fit_transform(df_cleaned[['finalRaw']])\n",
    "\n",
    "# END SOLUTION\n",
    "\n",
    "\n",
    "# call the scaled vectors x and y\n",
    "x = X_scaled_values\n",
    "y = Y_scaled_values\n",
    "print(x, y)"
   ]
  },
  {
   "cell_type": "markdown",
   "metadata": {},
   "source": [
    "### Activity 1.3 Plot the data to see if a linear regression line is a good fit\n",
    "It is helpful to understand if the data lends to a linear regression model. In this activity, we will plot the points to see if a line fit to data is reasonable."
   ]
  },
  {
   "cell_type": "code",
   "execution_count": 4,
   "metadata": {},
   "outputs": [
    {
     "data": {
      "text/plain": [
       "<matplotlib.collections.PathCollection at 0x1838b54f520>"
      ]
     },
     "execution_count": 4,
     "metadata": {},
     "output_type": "execute_result"
    },
    {
     "data": {
      "image/png": "[encoded data removed]",
      "text/plain": [
       "<Figure size 432x288 with 1 Axes>"
      ]
     },
     "metadata": {
      "needs_background": "light"
     },
     "output_type": "display_data"
    }
   ],
   "source": [
    "import numpy as np\n",
    "import matplotlib.pyplot as plt\n",
    "\n",
    "### BEGIN SOLUTION\n",
    "plt.scatter(x,y)\n",
    "\n",
    "### END SOLUTION"
   ]
  },
  {
   "cell_type": "markdown",
   "metadata": {},
   "source": [
    "## Question 1.4\n",
    "### BEGIN ANSWER\n",
    "question: Based on what you see in the plot, do you think it is fine to use linear regression? Why? ###ANSWER                             Based on what I see in the plot. I think we can use linear regression to solve the problem because we can definetly make a line of best fit that could include most of the points. \n",
    "\n",
    "### END ANSWER"
   ]
  },
  {
   "cell_type": "markdown",
   "metadata": {},
   "source": [
    "# Task 2 Manual Exploration of Linear Regression Line\n",
    "In this task we will manually explore the linear regression line. This will give us a good intution about the process.\n",
    "The goal now is to fit a line \n",
    "$$\n",
    "h(\\theta) = \\theta_0 + \\theta_1*x \n",
    "$$\n",
    "to all data points (x,y), such that the L2 error (or any other error such as L1 or Huber)\n",
    "$$\n",
    "E(\\theta) = \\sum(h(\\theta)-y)^2   $$ is minimized. In this task we will manually change the values of theta0 and theta1 such that we obtain the smallest possible error. \n"
   ]
  },
  {
   "cell_type": "code",
   "execution_count": 5,
   "metadata": {},
   "outputs": [],
   "source": [
    "# define the function h(theta)\n",
    "def h(theta0, theta1, x):\n",
    "    \"\"\"\n",
    "    Return the model theta0 + theta1*x\n",
    "    \n",
    "    \"\"\"\n",
    "    return theta0 + theta1*x"
   ]
  },
  {
   "cell_type": "markdown",
   "metadata": {},
   "source": [
    "### Activity 2.1 - Define the square loss (L2) function\n",
    "Define the function, sqerror that computes the error based on the arguments provided. The function h(theta) is as defined above. Assume that x and y are the observed vectors. We use the average square loss or L2 loss in this case. "
   ]
  },
  {
   "cell_type": "code",
   "execution_count": 6,
   "metadata": {},
   "outputs": [
    {
     "data": {
      "text/plain": [
       "0.030177421055523658"
      ]
     },
     "execution_count": 6,
     "metadata": {},
     "output_type": "execute_result"
    }
   ],
   "source": [
    "import numpy as np\n",
    "\n",
    "# Don't forget to divide the Sum of the Error by the lengh of data (len(x)) \n",
    "## BEGIN SOLUTION\n",
    "def sqerror(x, y, theta0, theta1):\n",
    "    \"\"\"\n",
    "    Input: parameters theta0 and theta1 of the model\n",
    "    Input: x, y vectors\n",
    "    Returns: L2 square error\n",
    "    Assumptions: none\n",
    "    \"\"\"\n",
    "    S = lambda a:a*a\n",
    "    return float(sum(S(h(theta0,theta1,x)-y))/len(x))\n",
    "## END SOLUTION\n",
    "\n",
    "## testing\n",
    "sqerror(x, y, 0.29,0.52)"
   ]
  },
  {
   "cell_type": "markdown",
   "metadata": {},
   "source": [
    "### Activity 2.2 - Define the L1 Absolute error function\n",
    "Define the function, abserror that computes the avarega absolute error based on the arguments provided. The function h(theta) is as defined above. Assume that x and y are the observed vectors. We use the average abssolute error in this case."
   ]
  },
  {
   "cell_type": "code",
   "execution_count": 7,
   "metadata": {},
   "outputs": [
    {
     "data": {
      "text/plain": [
       "0.1434814900348373"
      ]
     },
     "execution_count": 7,
     "metadata": {},
     "output_type": "execute_result"
    }
   ],
   "source": [
    "import numpy as np\n",
    "\n",
    "\n",
    "# Don't forget to divide the Sum of the Error by the lengh of data (len(x)) \n",
    "## BEGIN SOLUTION\n",
    "def abserror(x, y, theta0, theta1):\n",
    "    \"\"\"\n",
    "    Input: parameters theta0 and theta1 of the model \n",
    "    Input: x, y vectors\n",
    "    Returns: L1 error\n",
    "    Assumptions: none\n",
    "    \"\"\"\n",
    "    y_predicted = h(theta0,theta1,x)\n",
    "    \n",
    "    return abs(y_predicted-y).mean()\n",
    " \n",
    "\n",
    "## END SOLUTION\n",
    "\n",
    "## testing\n",
    "abserror(x, y, 0.29,0.52)"
   ]
  },
  {
   "attachments": {
    "image.png": {
     "image/png": "[encoded data removed]"
    }
   },
   "cell_type": "markdown",
   "metadata": {},
   "source": [
    "### Activity 2.3 - Define the Pseudo Huber loss function\n",
    "Define the function, huberror that computes the pseudo huber error based on the two arguments provided. The function h(theta) is as defined above. Assume that x and y are the observed vectors. The equation for this function is given by \n",
    "![image.png](attachment:image.png)\n",
    "The following function finds the average huber error. In this equation, a  = |h(theta) - y| (see notes for details)"
   ]
  },
  {
   "cell_type": "code",
   "execution_count": 8,
   "metadata": {},
   "outputs": [
    {
     "data": {
      "text/plain": [
       "0.008453775740331286"
      ]
     },
     "execution_count": 8,
     "metadata": {},
     "output_type": "execute_result"
    }
   ],
   "source": [
    "import numpy as np\n",
    "import math\n",
    "\n",
    "# Don't forget to divide the Sum of the Error by the lengh of data (len(x)) \n",
    "## BEGIN SOLUTION\n",
    "def huberror(x, y, theta0, theta1, delta):\n",
    "    \"\"\"\n",
    "    Input: parameters theta0, theta1 and delta of the model \n",
    "    Input: x, y vectors\n",
    "    Returns: psuedo huber error\n",
    "    Assumptions: none\n",
    "    \"\"\"\n",
    "    S = lambda z:z*z\n",
    "    a = abs(h(theta0,theta1,x)-y)\n",
    "    deltaSquare = S(delta)\n",
    "    return deltaSquare*(np.sqrt(1+S(a/delta))-1).mean()\n",
    "    \n",
    "\n",
    "\n",
    "## END SOLUTION\n",
    "\n",
    "## testing\n",
    "huberror(x, y, 0.29,0.52,0.1)"
   ]
  },
  {
   "cell_type": "markdown",
   "metadata": {},
   "source": [
    "### Activity 2.4 Interactive Exploration.\n",
    "Let us initialize the interat widget (as in Lab5) to create sliders that allows us to change the values of theta0 and theta1 and see how things change. Complete the function f below. The function is expected to get two values theta0 and theta1 and plot both the observed points (x,y) and the regression line on the same plot. It also needs to compute the error and display and error."
   ]
  },
  {
   "cell_type": "code",
   "execution_count": 9,
   "metadata": {},
   "outputs": [
    {
     "name": "stderr",
     "output_type": "stream",
     "text": [
      "Enabling notebook extension jupyter-js-widgets/extension...\n",
      "      - Validating: ok\n"
     ]
    }
   ],
   "source": [
    "from ipywidgets import interact\n",
    "!jupyter nbextension enable --py widgetsnbextension"
   ]
  },
  {
   "cell_type": "code",
   "execution_count": 10,
   "metadata": {},
   "outputs": [
    {
     "data": {
      "application/vnd.jupyter.widget-view+json": {
       "model_id": "6c1709eb4c9a4ae38aef1f46eff016aa",
       "version_major": 2,
       "version_minor": 0
      },
      "text/plain": [
       "interactive(children=(FloatSlider(value=0.0, description='theta0', max=1.0), FloatSlider(value=0.0, descriptio…"
      ]
     },
     "metadata": {},
     "output_type": "display_data"
    }
   ],
   "source": [
    "# interactive panel\n",
    "import pylab\n",
    "import numpy\n",
    "\n",
    "def f(theta0, theta1):\n",
    "    \"\"\"\n",
    "    Plot the line and points in an interactive panel\n",
    "    \"\"\"\n",
    "    # plot the line for theta0 and theta1\n",
    "    y_pre = h(theta0, theta1, x) \n",
    "    # compose plot\n",
    "    pylab.plot(x,y_pre) \n",
    "    \n",
    "    # compute the L2 error for theta0 and theta1 for 5 decimal places\n",
    "    sqerr = round(sqerror(x, y, theta0, theta1), 4)\n",
    "    # compute the absolute or L1 error for theta0 and theta1\n",
    "    abserr = round(abserror(x, y, theta0, theta1),4)\n",
    "    # compute the phub error for theta0 and theta1\n",
    "    huberr = round(huberror(x, y, theta0, theta1, 0.01),4)\n",
    "    pylab.title('L1=' + str(abserr) + '  L2=' + str(sqerr) + '  hub=' + str(huberr))\n",
    "    \n",
    "    # plot the points\n",
    "    x1 = X_scaled_values   \n",
    "    y1 = Y_scaled_values\n",
    "    pylab.scatter(x1, y1, alpha=0.5)\n",
    "    pylab.show() # show the plot  \n",
    "\n",
    "interact(f, theta1=(0,1,0.1), theta0=(0,1,0.1));\n"
   ]
  },
  {
   "cell_type": "markdown",
   "metadata": {},
   "source": [
    "### Activity 2.5 Record the best values for each error function\n",
    "Write the \"best\" values you found for theta0 (y-intercept) and theta1 (slope) and the error. \n",
    "This error is the minimum you have observed based on the manual exploration using the widget \n",
    "above."
   ]
  },
  {
   "cell_type": "code",
   "execution_count": 11,
   "metadata": {},
   "outputs": [],
   "source": [
    "# BEST VALUES FOR AVE SQUARE ERROR\n",
    "theta0 = 0.30\n",
    "theta1 = 0.70\n",
    "error = 0.0209\n",
    "# BEST VALUES FOR AVE ABS ERROR\n",
    "theta0 = 0.30\n",
    "theta1 = 0.70\n",
    "error = 0.1175\n",
    "\n",
    "# BEST VALUES FOR AVE HUBER ERROR\n",
    "theta0 = 0.30\n",
    "theta1 = 0.70\n",
    "error = 0.0011"
   ]
  },
  {
   "cell_type": "markdown",
   "metadata": {},
   "source": [
    "# Task 3 - Gradient Descent\n",
    "In this task we use the Gradient descent methods to find a \"better\" values for theta0 and theta1 that minimizes the error. Gradient descent is an iterative algorithm. It computes values of theta0 and theta1 in the direction of reaching the minimum point in the error function. The iterative formulas using L2 loss function for theta0 and theta1 are given by:\n",
    "$$\n",
    "\\theta_0 = \\theta_0 - \\alpha*(\\sum(\\theta_1*x_j + \\theta_0)-y_j)\n",
    "$$\n",
    "$$\n",
    "\\theta_1 = \\theta_1 - \\alpha*(\\sum(\\theta_1*x_j + \\theta_0 - y_j)*x_j\n",
    "$$\n",
    "\n",
    "The alpha is called the \"learning rate\". It is important to pick a good value for alpha so that convergence is not too slow (small alpha) or be at the risk of over shooting the minimum point (large alpha). You may have to experiemnt with few alphas to find something that works."
   ]
  },
  {
   "cell_type": "markdown",
   "metadata": {},
   "source": [
    "### Activity 3.1 Compute using Gradient Descent algorithm (L2 loss)\n",
    "\n",
    "Please print out the theta0 and theta1 values for each iteration in your function. You may get different output compare with the sample output depends on your initial theta0 and theta1 values. We will accept any answers which are close to the sample output."
   ]
  },
  {
   "cell_type": "code",
   "execution_count": 12,
   "metadata": {},
   "outputs": [
    {
     "name": "stdout",
     "output_type": "stream",
     "text": [
      "iter_num = 0, theta0 = 0, theta1 = 0\n",
      "iter_num = 1, theta0 = 0.5825104602510457, theta1 = 0.2537550433353256, newError = 0.03590827846064017\n",
      "iter_num = 2, theta0 = 0.4888160087954834, theta1 = 0.2310269378402265, newError = 0.027694670464181902\n",
      "iter_num = 3, theta0 = 0.496792743154787, theta1 = 0.24934651781355466, newError = 0.027131705741810286\n",
      "iter_num = 4, theta0 = 0.4896878002275904, theta1 = 0.26107025909969744, newError = 0.026762819236553825\n",
      "iter_num = 5, theta0 = 0.4850188460126593, theta1 = 0.2733614432632653, newError = 0.026418797150231207\n",
      "iter_num = 6, theta0 = 0.48015170768136073, theta1 = 0.2851573024660502, newError = 0.026094648899332218\n",
      "iter_num = 7, theta0 = 0.47547684776695553, theta1 = 0.2966293153404726, newError = 0.02578915093689561\n",
      "iter_num = 8, theta0 = 0.47093091911862395, theta1 = 0.30776336914501234, newError = 0.025501228494406253\n",
      "iter_num = 9, theta0 = 0.4665188231056727, theta1 = 0.31857286630702614, newError = 0.025229870401124958\n",
      "iter_num = 10, theta0 = 0.4622353524773159, theta1 = 0.3290667502356013, newError = 0.024974123699336142\n",
      "iter_num = 11, theta0 = 0.4580769476677943, theta1 = 0.33925431378268867, newError = 0.02473309025644072\n",
      "iter_num = 12, theta0 = 0.4540399285410757, theta1 = 0.34914448690036237, newError = 0.024505923609958968\n",
      "iter_num = 13, theta0 = 0.4501207560802209, theta1 = 0.3587459526153369, newError = 0.024291825994898326\n",
      "iter_num = 14, theta0 = 0.44631598952052076, theta1 = 0.368067138420953, newError = 0.024090045542157705\n",
      "iter_num = 15, theta0 = 0.44262228929678366, theta1 = 0.37711622611030454, newError = 0.02389987363810973\n",
      "iter_num = 16, theta0 = 0.43903641321637876, theta1 = 0.38590115859229834, newError = 0.023720642436087805\n",
      "iter_num = 17, theta0 = 0.43555521374779277, theta1 = 0.39442964691847904, newError = 0.023551722511038736\n",
      "iter_num = 18, theta0 = 0.43217563523768293, theta1 = 0.4027091770432368, newError = 0.023392520649104596\n",
      "iter_num = 19, theta0 = 0.42889471123177836, theta1 = 0.4107470163959044, newError = 0.02324247776437128\n",
      "iter_num = 20, theta0 = 0.425709561870595, theta1 = 0.41855022025962096, newError = 0.023101066935467745\n",
      "iter_num = 21, theta0 = 0.42261739136168186, theta1 = 0.42612563796419556, newError = 0.022967791555120798\n",
      "iter_num = 22, theta0 = 0.41961548552557987, theta1 = 0.4334799188981617, newError = 0.022842183586167145\n",
      "iter_num = 23, theta0 = 0.41670120941342903, theta1 = 0.4406195183453363, newError = 0.022723801917898127\n",
      "iter_num = 24, theta0 = 0.4138720049941187, theta1 = 0.44755070315100115, newError = 0.022612230816964816\n",
      "iter_num = 25, theta0 = 0.41112538890895395, theta1 = 0.45427955722268026, newError = 0.02250707846740353\n",
      "iter_num = 26, theta0 = 0.40845895029186563, theta1 = 0.4608119868703427, newError = 0.022407975594654555\n",
      "iter_num = 27, theta0 = 0.4058703486532521, theta1 = 0.46715372599071736, newError = 0.022314574168741788\n",
      "iter_num = 28, theta0 = 0.40335731182559403, theta1 = 0.47331034110027026, newError = 0.022226546182059364\n",
      "iter_num = 29, theta0 = 0.4009176339690397, theta1 = 0.47928723622126285, newError = 0.0221435824974728\n",
      "iter_num = 30, theta0 = 0.39854917363520986, theta1 = 0.4850896576251793, newError = 0.02206539176268968\n",
      "iter_num = 31, theta0 = 0.3962498518875231, theta1 = 0.49072269843768673, newError = 0.02199169938708713\n",
      "iter_num = 32, theta0 = 0.394017650476391, theta1 = 0.49619130310917037, newError = 0.021922246577403076\n",
      "iter_num = 33, theta0 = 0.3918506100676822, theta1 = 0.5015002717547679, newError = 0.02185678942890478\n",
      "iter_num = 34, theta0 = 0.38974682852289977, theta1 = 0.5066542643677117, newError = 0.021795098068842906\n",
      "iter_num = 35, theta0 = 0.3877044592295631, theta1 = 0.5116578049096789, newError = 0.02173695584918322\n",
      "iter_num = 36, theta0 = 0.3857217094803269, theta1 = 0.5165152852817375, newError = 0.021682158585780948\n",
      "iter_num = 37, theta0 = 0.38379683889941785, theta1 = 0.5212309691793756, newError = 0.02163051384132583\n",
      "iter_num = 38, theta0 = 0.3819281579150038, theta1 = 0.5258089958349974, newError = 0.02158184024953978\n",
      "iter_num = 39, theta0 = 0.380114026276158, theta1 = 0.5302533836511698, newError = 0.021535966878253883\n",
      "iter_num = 40, theta0 = 0.3783528516131144, theta1 = 0.5345680337278105, newError = 0.02149273262912792\n",
      "iter_num = 41, theta0 = 0.3766430880395515, theta1 = 0.538756733286412, newError = 0.021451985671904386\n",
      "iter_num = 42, theta0 = 0.3749832347956768, theta1 = 0.5428231589943086, newError = 0.021413582911210205\n",
      "iter_num = 43, theta0 = 0.37337183493092235, theta1 = 0.5467708801919019, newError = 0.02137738948403369\n",
      "iter_num = 44, theta0 = 0.3718074740250937, theta1 = 0.5506033620256815, newError = 0.021343278286111943\n",
      "iter_num = 45, theta0 = 0.37028877894685, theta1 = 0.5543239684897867, newError = 0.02131112952556538\n",
      "iter_num = 46, theta0 = 0.36881441664842624, theta1 = 0.5579359653787815, newError = 0.021280830302212037\n",
      "iter_num = 47, theta0 = 0.36738309299553934, theta1 = 0.5614425231542345, newError = 0.0212522742110842\n",
      "iter_num = 48, theta0 = 0.3659935516314501, theta1 = 0.5648467197276184, newError = 0.021225360968754776\n",
      "iter_num = 49, theta0 = 0.36464457287418517, theta1 = 0.5681515431619738, newError = 0.02119999606116154\n",
      "iter_num = 50, theta0 = 0.36333497264595127, theta1 = 0.5713598942947078, newError = 0.02117609041169206\n",
      "iter_num = 51, theta0 = 0.3620636014337998, theta1 = 0.5744745892838284, newError = 0.02115356006836414\n",
      "iter_num = 52, theta0 = 0.36082934328063254, theta1 = 0.5774983620798523, newError = 0.021132325909002644\n",
      "iter_num = 53, theta0 = 0.35963111480566023, theta1 = 0.580433866825553, newError = 0.021112313363378\n",
      "iter_num = 54, theta0 = 0.35846786425345606, theta1 = 0.5832836801856581, newError = 0.02109345215132999\n",
      "iter_num = 55, theta0 = 0.3573385705707678, theta1 = 0.586050303608539, newError = 0.02107567603595754\n",
      "iter_num = 56, theta0 = 0.35624224251027975, theta1 = 0.5887361655218789, newError = 0.021058922591007632\n",
      "iter_num = 57, theta0 = 0.3551779177605369, theta1 = 0.5913436234642461, newError = 0.021043132981646524\n",
      "iter_num = 58, theta0 = 0.3541446621012674, theta1 = 0.5938749661544438, newError = 0.021028251757843158\n",
      "iter_num = 59, theta0 = 0.35314156858336276, theta1 = 0.5963324155004532, newError = 0.021014226659639576\n",
      "iter_num = 60, theta0 = 0.3521677567327956, theta1 = 0.5987181285497326, newError = 0.02100100843362408\n",
      "iter_num = 61, theta0 = 0.35122237177777565, theta1 = 0.6010341993825837, newError = 0.02098855065996285\n",
      "iter_num = 62, theta0 = 0.3503045838984667, theta1 = 0.6032826609502497, newError = 0.020976809589382545\n",
      "iter_num = 63, theta0 = 0.3494135874986046, theta1 = 0.6054654868593552, newError = 0.02096574398953135\n",
      "iter_num = 64, theta0 = 0.3485486004983787, theta1 = 0.6075845931042566, newError = 0.02095531500017905\n",
      "iter_num = 65, theta0 = 0.3477088636479541, theta1 = 0.6096418397488234, newError = 0.02094548599674743\n",
      "iter_num = 66, theta0 = 0.34689363986103383, theta1 = 0.6116390325591243, newError = 0.020936222461691887\n",
      "iter_num = 67, theta0 = 0.34610221356787474, theta1 = 0.6135779245884551, newError = 0.020927491863282573\n",
      "iter_num = 68, theta0 = 0.34533389008719, theta1 = 0.6154602177160955, newError = 0.0209192635413593\n",
      "iter_num = 69, theta0 = 0.3445879950163867, theta1 = 0.6172875641411489, newError = 0.020911508599658953\n",
      "iter_num = 70, theta0 = 0.343863873639603, theta1 = 0.6190615678327747, newError = 0.02090419980433759\n",
      "iter_num = 71, theta0 = 0.3431608903530257, theta1 = 0.6207837859380851, newError = 0.020897311488330347\n",
      "iter_num = 72, theta0 = 0.3424784281069835, theta1 = 0.6224557301489461, newError = 0.0208908194612138\n",
      "iter_num = 73, theta0 = 0.34181588786432604, theta1 = 0.6240788680288764, newError = 0.020884700924253877\n",
      "iter_num = 74, theta0 = 0.3411726880746143, theta1 = 0.6256546243012151, newError = 0.020878934390341126\n",
      "iter_num = 75, theta0 = 0.34054826416365935, theta1 = 0.6271843820996847, newError = 0.020873499608532256\n",
      "iter_num = 76, theta0 = 0.33994206803796245, theta1 = 0.6286694841824488, newError = 0.020868377492932626\n",
      "iter_num = 77, theta0 = 0.33935356760362145, theta1 = 0.6301112341107293, newError = 0.020863550055670477\n",
      "iter_num = 78, theta0 = 0.33878224629928055, theta1 = 0.631510897393019, newError = 0.0208590003437269\n",
      "iter_num = 79, theta0 = 0.3382276026427142, theta1 = 0.6328697025958925, newError = 0.02085471237940018\n",
      "iter_num = 80, theta0 = 0.3376891497906465, theta1 = 0.634188842422391, newError = 0.020850671104195244\n",
      "iter_num = 81, theta0 = 0.337166415111421, theta1 = 0.6354694747589281, newError = 0.02084686232594113\n",
      "iter_num = 82, theta0 = 0.33665893977014305, theta1 = 0.6367127236916342, newError = 0.020843272668950853\n",
      "iter_num = 83, theta0 = 0.3361662783259346, theta1 = 0.6379196804930332, newError = 0.020839889527048606\n",
      "iter_num = 84, theta0 = 0.33568799834094387, theta1 = 0.639091404579916, newError = 0.020836701019299343\n",
      "iter_num = 85, theta0 = 0.33522368000076963, theta1 = 0.6402289244432534, newError = 0.020833695948285207\n",
      "iter_num = 86, theta0 = 0.33477291574596524, theta1 = 0.6413332385509624, newError = 0.02083086376078243\n",
      "iter_num = 87, theta0 = 0.3343353099143001, theta1 = 0.6424053162243202, newError = 0.020828194510700438\n",
      "iter_num = 88, theta0 = 0.3339104783934634, theta1 = 0.6434460984887945, newError = 0.020825678824153086\n",
      "iter_num = 89, theta0 = 0.33349804828390656, theta1 = 0.6444564989000368, newError = 0.020823307866539527\n",
      "iter_num = 90, theta0 = 0.3330976575715269, theta1 = 0.6454374043457632, newError = 0.020821073311518633\n",
      "iter_num = 91, theta0 = 0.33270895480990725, theta1 = 0.6463896758242289, newError = 0.020818967311768646\n",
      "iter_num = 92, theta0 = 0.3323315988118303, theta1 = 0.6473141491999757, newError = 0.020816982471428876\n",
      "iter_num = 93, theta0 = 0.33196525834979884, theta1 = 0.6482116359375198, newError = 0.02081511182012682\n",
      "iter_num = 94, theta0 = 0.3316096118652979, theta1 = 0.6490829238136224, newError = 0.02081334878849968\n",
      "iter_num = 95, theta0 = 0.3312643471865439, theta1 = 0.6499287776087667, newError = 0.020811687185123964\n",
      "iter_num = 96, theta0 = 0.33092916125447325, theta1 = 0.6507499397784509, newError = 0.020810121174772402\n",
      "iter_num = 97, theta0 = 0.3306037598567295, theta1 = 0.651547131104885, newError = 0.02080864525792183\n",
      "iter_num = 98, theta0 = 0.3302878573694162, theta1 = 0.6523210513296639, newError = 0.020807254251439894\n",
      "iter_num = 99, theta0 = 0.3299811765063876, theta1 = 0.653072379767971, newError = 0.020805943270382918\n",
      "iter_num = 100, theta0 = 0.32968344807585875, theta1 = 0.6538017759048534, newError = 0.020804707710840906\n"
     ]
    },
    {
     "name": "stdout",
     "output_type": "stream",
     "text": [
      "iter_num = 101, theta0 = 0.32939441074411985, theta1 = 0.654509879974091, newError = 0.020803543233769515\n",
      "iter_num = 102, theta0 = 0.3291138108061484, theta1 = 0.6551973135201664, newError = 0.020802445749752214\n",
      "iter_num = 103, theta0 = 0.32884140196291717, theta1 = 0.6558646799438315, newError = 0.020801411404639012\n",
      "iter_num = 104, theta0 = 0.32857694510520374, theta1 = 0.6565125650317475, newError = 0.02080043656601144\n",
      "104\n"
     ]
    }
   ],
   "source": [
    "# given the observed data (obsX,obsY), learning rate (alpha), and desired error threshold, \n",
    "# the function returns theta0 and theta1 when it reaches the error threshold.\n",
    "# The convergence is reached when the abs(newError - oldError) is less than the threshold.\n",
    "\n",
    "# You don't need to divide the gradient by len(obsX) to match the template, just use the formula above \n",
    "# BEGIN SOLUTION  \n",
    "def gd2(obsX, obsY, alpha, threshold):\n",
    "    \"\"\"\n",
    "    Input : observed vectors X, Y, alpha and threshold\n",
    "    Return theta0, theta1 from Gradient Descent L2 loss algorithm\n",
    "    Return: Iterations and L2 Error\n",
    "    \"\"\"\n",
    "    sum_theta0 = lambda a,b : float(sum(b*x+a-y for x,y in zip(obsX,obsY)))\n",
    "    sum_theta1 = lambda a,b : float(sum((b*x+a-y)*x for x,y in zip(obsX,obsY)))\n",
    "    prev_theta0, prev_theta1 = 0, 0\n",
    "    old_error = sqerror(obsX,obsY, prev_theta0, prev_theta1)\n",
    "    new_error = old_error + 100\n",
    "    iterations = 0\n",
    "    print(f'iter_num = {iterations}, theta0 = {prev_theta0}, theta1 = {prev_theta1}')\n",
    "    while abs(new_error - old_error)>=threshold:\n",
    "        theta0 = prev_theta0 - alpha*sum_theta0(prev_theta0, prev_theta1)\n",
    "        theta1 = prev_theta1 - alpha*sum_theta1(prev_theta0, prev_theta1)\n",
    "        new_error = sqerror(obsX, obsY, theta0, theta1)\n",
    "        old_error = sqerror(obsX, obsY, prev_theta0, prev_theta1)\n",
    "        prev_theta0 = theta0\n",
    "        prev_theta1 = theta1\n",
    "        iterations += 1\n",
    "        print(f'iter_num = {iterations}, theta0 = {theta0}, theta1 = {theta1}, newError = {new_error}')\n",
    "    return theta0,theta1,new_error,iterations\n",
    "    \n",
    "# END SOLUTION\n",
    "\n",
    "[theta0,theta1,newError,iterations] = gd2(x,y,0.01,0.000001)\n",
    "print(iterations)"
   ]
  },
  {
   "cell_type": "code",
   "execution_count": 13,
   "metadata": {},
   "outputs": [
    {
     "data": {
      "text/plain": [
       "(0.32857694510520374, 0.6565125650317475, 0.02080043656601144)"
      ]
     },
     "execution_count": 13,
     "metadata": {},
     "output_type": "execute_result"
    }
   ],
   "source": [
    "# observe theta0 and theta1\n",
    "theta0, theta1, newError"
   ]
  },
  {
   "cell_type": "markdown",
   "metadata": {},
   "source": [
    "### Activity 3.2 Compute Gradient Descent (Huber)\n",
    "First Compute a formula for Pseudo huber gradient descent using derivative methods discussed in class and recitation. Similar to L2 descent, use the new formulas (obtained from pseudo huber derivatives) to compute values of theta1, theta1, error. The pseudo huber loss function is provided in Activity 2.3. Use that to differentiate the huber function wrt to theta0 and theta1. \n",
    "\n",
    "Please print out the theta0 and theta1 values for each iteration in your function. You may get different output compared with the sample output depending on your initial theta0 and theta1 values. We will accept any answers which are close to the sample output."
   ]
  },
  {
   "cell_type": "code",
   "execution_count": 14,
   "metadata": {},
   "outputs": [
    {
     "name": "stdout",
     "output_type": "stream",
     "text": [
      "iter_num = 0 , theta0 = 0 , theta1 = 0\n",
      "iter_num = 1 , theta0 = 0.009797660064798553 , theta1 = 0.003912320347776359\n",
      "iter_num = 2 , theta0 = 0.019523918183770764 , theta1 = 0.007818247823749529\n",
      "iter_num = 3 , theta0 = 0.029231557592804706 , theta1 = 0.01172249441217698\n",
      "iter_num = 4 , theta0 = 0.03893363924838999 , theta1 = 0.015626225479223724\n",
      "iter_num = 5 , theta0 = 0.048633325248047456 , theta1 = 0.01952972276609834\n",
      "iter_num = 6 , theta0 = 0.05833162722083858 , theta1 = 0.023433076476186986\n",
      "iter_num = 7 , theta0 = 0.06802889954300227 , theta1 = 0.027336319101747025\n",
      "iter_num = 8 , theta0 = 0.07772521004843048 , theta1 = 0.03123945957657405\n",
      "iter_num = 9 , theta0 = 0.08742042092752576 , theta1 = 0.035142492891856204\n",
      "iter_num = 10 , theta0 = 0.09711411939519211 , theta1 = 0.03904539996384808\n",
      "iter_num = 11 , theta0 = 0.10680529586627914 , theta1 = 0.04294813674097355\n",
      "iter_num = 12 , theta0 = 0.11649112210497854 , theta1 = 0.04685059017695631\n",
      "iter_num = 13 , theta0 = 0.12616108585964655 , theta1 = 0.0507523674398263\n",
      "iter_num = 14 , theta0 = 0.1357713756868348 , theta1 = 0.05465187849006529\n",
      "iter_num = 15 , theta0 = 0.14530032905144777 , theta1 = 0.05854831183782095\n",
      "iter_num = 16 , theta0 = 0.15480200055756949 , theta1 = 0.062443537706283185\n",
      "iter_num = 17 , theta0 = 0.1642914616453885 , theta1 = 0.06633798823524797\n",
      "iter_num = 18 , theta0 = 0.17376502666503246 , theta1 = 0.07023133304869406\n",
      "iter_num = 19 , theta0 = 0.1831920911857629 , theta1 = 0.07412207540979693\n",
      "iter_num = 20 , theta0 = 0.1925102351433405 , theta1 = 0.07800514721100976\n",
      "iter_num = 21 , theta0 = 0.20170727510322223 , theta1 = 0.08186521700306999\n",
      "iter_num = 22 , theta0 = 0.21081582131132862 , theta1 = 0.08570392772909495\n",
      "iter_num = 23 , theta0 = 0.2198652938244506 , theta1 = 0.08952824172907603\n",
      "iter_num = 24 , theta0 = 0.22881435491236415 , theta1 = 0.09332739440383715\n",
      "iter_num = 25 , theta0 = 0.23771184608608364 , theta1 = 0.09711446775071665\n",
      "iter_num = 26 , theta0 = 0.24657921809093505 , theta1 = 0.10089683577685711\n",
      "iter_num = 27 , theta0 = 0.2553857355092572 , theta1 = 0.10467374880517386\n",
      "iter_num = 28 , theta0 = 0.26408846934912406 , theta1 = 0.10844187151259838\n",
      "iter_num = 29 , theta0 = 0.2726987196901014 , theta1 = 0.11219682944010226\n",
      "iter_num = 30 , theta0 = 0.28109365130329594 , theta1 = 0.11591164003631997\n",
      "iter_num = 31 , theta0 = 0.2891537409153109 , theta1 = 0.11956828084681241\n",
      "iter_num = 32 , theta0 = 0.29704109898864794 , theta1 = 0.12319519763750329\n",
      "iter_num = 33 , theta0 = 0.3047590688994302 , theta1 = 0.1267861520912891\n",
      "iter_num = 34 , theta0 = 0.31221116021331874 , theta1 = 0.13030594335652435\n",
      "iter_num = 35 , theta0 = 0.319392624586692 , theta1 = 0.1337302704859707\n",
      "iter_num = 36 , theta0 = 0.3263723228990943 , theta1 = 0.13707111655738782\n",
      "iter_num = 37 , theta0 = 0.3332612149640149 , theta1 = 0.14038022072383172\n",
      "iter_num = 38 , theta0 = 0.3400618723696216 , theta1 = 0.14366911205895283\n",
      "iter_num = 39 , theta0 = 0.34668863038532016 , theta1 = 0.1469219981509441\n",
      "iter_num = 40 , theta0 = 0.35304409620777993 , theta1 = 0.15010782709270143\n",
      "iter_num = 41 , theta0 = 0.3591642646818726 , theta1 = 0.15323183774182472\n",
      "iter_num = 42 , theta0 = 0.3651416631762008 , theta1 = 0.15631531883243116\n",
      "iter_num = 43 , theta0 = 0.3710445301335767 , theta1 = 0.15937632430122511\n",
      "iter_num = 44 , theta0 = 0.37687612307560114 , theta1 = 0.16241319636965662\n",
      "iter_num = 45 , theta0 = 0.38258240616390266 , theta1 = 0.1654047972955205\n",
      "iter_num = 46 , theta0 = 0.38813278197711176 , theta1 = 0.16834302653722893\n",
      "iter_num = 47 , theta0 = 0.39355272592797874 , theta1 = 0.1712431077017565\n",
      "iter_num = 48 , theta0 = 0.3988274314253473 , theta1 = 0.17410491237633052\n",
      "iter_num = 49 , theta0 = 0.4039510846721962 , theta1 = 0.1769220844043555\n",
      "iter_num = 50 , theta0 = 0.4089231611566671 , theta1 = 0.17968392269568922\n",
      "iter_num = 51 , theta0 = 0.41368491488390835 , theta1 = 0.18235584773780897\n",
      "iter_num = 52 , theta0 = 0.4182210636379133 , theta1 = 0.18492557422408806\n",
      "iter_num = 53 , theta0 = 0.42258780934289475 , theta1 = 0.18742070565010843\n",
      "iter_num = 54 , theta0 = 0.4268216761964815 , theta1 = 0.1898617279232915\n",
      "iter_num = 55 , theta0 = 0.4309145465283432 , theta1 = 0.19224821505552991\n",
      "iter_num = 56 , theta0 = 0.43485479381189995 , theta1 = 0.1945745297265169\n",
      "iter_num = 57 , theta0 = 0.43865675685401617 , theta1 = 0.1968455255563883\n",
      "iter_num = 58 , theta0 = 0.442344668719831 , theta1 = 0.19907170917794548\n",
      "iter_num = 59 , theta0 = 0.44592396359627234 , theta1 = 0.2012568975767921\n",
      "iter_num = 60 , theta0 = 0.449392987457013 , theta1 = 0.20340242866556923\n",
      "iter_num = 61 , theta0 = 0.45276571489369727 , theta1 = 0.20551508516545153\n",
      "iter_num = 62 , theta0 = 0.4560613698913675 , theta1 = 0.20760273538206367\n",
      "iter_num = 63 , theta0 = 0.45928771263407936 , theta1 = 0.20966910208188067\n",
      "iter_num = 64 , theta0 = 0.4624434144168983 , theta1 = 0.2117140788827693\n",
      "iter_num = 65 , theta0 = 0.4655284243171865 , theta1 = 0.21373578334561846\n",
      "iter_num = 66 , theta0 = 0.4685397467083873 , theta1 = 0.21572907332040026\n",
      "iter_num = 67 , theta0 = 0.47145865048709923 , theta1 = 0.21768133061776795\n",
      "iter_num = 68 , theta0 = 0.47424534437128324 , theta1 = 0.21956978588099774\n",
      "iter_num = 69 , theta0 = 0.4768562549345285 , theta1 = 0.22136995771211662\n",
      "iter_num = 70 , theta0 = 0.4792762457109922 , theta1 = 0.22307297763943376\n",
      "iter_num = 71 , theta0 = 0.4815114021457324 , theta1 = 0.2246810892669744\n",
      "iter_num = 72 , theta0 = 0.4835664874191964 , theta1 = 0.2261959595617929\n",
      "iter_num = 73 , theta0 = 0.48544382719222123 , theta1 = 0.22761920828998525\n",
      "iter_num = 74 , theta0 = 0.48714853173772643 , theta1 = 0.2289546562515631\n",
      "iter_num = 75 , theta0 = 0.48869058198847876 , theta1 = 0.23020837440937714\n",
      "iter_num = 76 , theta0 = 0.4900855757639863 , theta1 = 0.23138884034986876\n",
      "iter_num = 77 , theta0 = 0.4913531871009165 , theta1 = 0.23250637761123505\n",
      "iter_num = 78 , theta0 = 0.49251363902759493 , theta1 = 0.23357155514389896\n",
      "iter_num = 79 , theta0 = 0.493584400276788 , theta1 = 0.2345935700724403\n",
      "iter_num = 80 , theta0 = 0.4945787256741101 , theta1 = 0.2355794997637009\n",
      "iter_num = 81 , theta0 = 0.49550587611785346 , theta1 = 0.23653439040167515\n",
      "iter_num = 82 , theta0 = 0.4963721191166275 , theta1 = 0.2374617365678056\n",
      "iter_num = 83 , theta0 = 0.4971818534354291 , theta1 = 0.2383640208229073\n",
      "iter_num = 84 , theta0 = 0.4979385419832664 , theta1 = 0.2392431602433388\n",
      "iter_num = 85 , theta0 = 0.4986453319954841 , theta1 = 0.24010080757197927\n",
      "iter_num = 86 , theta0 = 0.4993053598160585 , theta1 = 0.2409385096322461\n",
      "iter_num = 87 , theta0 = 0.4999218182607792 , theta1 = 0.24175775918698214\n",
      "iter_num = 88 , theta0 = 0.5004978950285691 , theta1 = 0.2425599877886358\n",
      "88 0.0012401927156114952\n"
     ]
    }
   ],
   "source": [
    "# given the observed data (obsX,obsY), learning rate (alpha), and desired error, \n",
    "# the function returns theta0, theta1, error and iterations\n",
    "# that reaches a minimum error threshold\n",
    "\n",
    "# Also, you don't need to divide the gradient by len(obsX) to match the template, just differentiate the huber function wrt to theta0 and theta1 in activity 2.3\n",
    "## BEGIN SOLUTION\n",
    "\n",
    "def gdh(obsX, obsY, alpha, threshold, delta):\n",
    "    \"\"\"\n",
    "    Input : observed vectors X, Y, alpha and threshold\n",
    "    Return theta0, theta1 from Gradient Descent huber loss algorithm\n",
    "    Return: Iterations and huber Error\n",
    "    \"\"\"\n",
    "    theta0 = 0\n",
    "    theta1 = 0\n",
    "    iterationNum = 0\n",
    "    prevError = 0\n",
    "    \n",
    "    while abs(prevError - huberror(obsX, obsY, theta0, theta1,delta)) > threshold:\n",
    "        prevError = huberror(obsX, obsY, theta0, theta1,delta)\n",
    "        print(\"iter_num = \"+ str(iterationNum ) +\" , theta0 = \"+ str(theta0)+ \" , theta1 = \"+ str(theta1))\n",
    "        \n",
    "        derivative = delta*(1/(np.sqrt(np.square(delta) + np.square(h(theta0, theta1, obsX) - obsY))))*(h(theta0, theta1, obsX) - obsY)\n",
    "        # print(diff_term)\n",
    "        theta0 = theta0 - alpha * np.sum(derivative)\n",
    "        theta1 = theta1 - alpha *np.sum(derivative * obsX)\n",
    "        iterationNum  += 1\n",
    "        # return [theta0, theta1, sqerror(x, y, theta0, theta1), iteration ]\n",
    "    print(\"iter_num = \"+ str(iterationNum ) +\" , theta0 = \"+ str(theta0)+ \" , theta1 = \"+ str(theta1))                                    \n",
    "    return [theta0, theta1, huberror(obsX, obsY, theta0, theta1,delta), iterationNum ]\n",
    " \n",
    "## END SOLUTION\n",
    "# testing    \n",
    "[theta0,theta1,newError,iterations] = gdh(x,y,0.01,0.000001,0.01)\n",
    "print(iterations, newError)"
   ]
  },
  {
   "cell_type": "markdown",
   "metadata": {},
   "source": [
    "### Activity 3.2\n",
    "1. Write the values of theta0, theta1, alpha, error that provided the minimum value through gradient descent\n",
    "2. Experiment the new values of theta0, theta1 to see if the interactive widget shows similar things.\n",
    "\n",
    "##### BEGIN ANSWER\n",
    "\n",
    "\n",
    "\n",
    "##### END ANSWER"
   ]
  },
  {
   "cell_type": "markdown",
   "metadata": {},
   "source": [
    "### Activity 3.3 Compare with Library Estimators\n",
    "Now use the sklearn LinearRegression module to automate this process. What coefficients do you get? Are they close to what you received from gradient descent? Find the error from sklearn package. Is that error smaller or bigger than the squared error you received?"
   ]
  },
  {
   "cell_type": "code",
   "execution_count": 15,
   "metadata": {},
   "outputs": [
    {
     "name": "stdout",
     "output_type": "stream",
     "text": [
      "[0.31978198]\n",
      "[[0.67805909]]\n"
     ]
    }
   ],
   "source": [
    "from sklearn.linear_model import LinearRegression\n",
    "lm = LinearRegression()\n",
    "result = lm.fit(x,y)\n",
    "print(result.intercept_)\n",
    "print(result.coef_)"
   ]
  },
  {
   "cell_type": "code",
   "execution_count": 16,
   "metadata": {},
   "outputs": [
    {
     "data": {
      "text/plain": [
       "0.020784466704243824"
      ]
     },
     "execution_count": 16,
     "metadata": {},
     "output_type": "execute_result"
    }
   ],
   "source": [
    "theta0 = result.intercept_\n",
    "theta1 = result.coef_\n",
    "sqerror(x, y, theta0, theta1)"
   ]
  },
  {
   "cell_type": "markdown",
   "metadata": {},
   "source": [
    "## Task 4- Predict the Final Exam Score\n",
    "The regression line was obtained using grades from CS 205 course. We can consider them to be training data. Now we trained a model (with theta0 and theta1) so we can predict the grade for your own course based on your midterm grade.\n",
    "We will do few things before we can accomplish this task."
   ]
  },
  {
   "cell_type": "markdown",
   "metadata": {},
   "source": [
    "### Activity 4.1 Read the midterm grades\n",
    "The grade file for CS439 midterm is given in data/CS439_grades.csv. Read this data file to a new "
   ]
  },
  {
   "cell_type": "code",
   "execution_count": 17,
   "metadata": {},
   "outputs": [],
   "source": [
    "# Since we don't have another file, just use the df in activity 1.1 here\n",
    "import pandas as pd\n",
    "df = pd.read_csv(\"data/CS439-Spring-19-Grades.csv\")"
   ]
  },
  {
   "cell_type": "markdown",
   "metadata": {},
   "source": [
    "### Activity 4.2 Predict your Grade\n",
    "Scale the values in the midterm grades of CS 439 and compute the estimated final exam grade. Note that this is probably not a very good estimator since we are trying to predict final exam just by using a midterm score. However, using more features such as labs and quiz scores can help improve the accuracy. We will do that in a future lab. The output is shown as values scaled back to percentages (100% max)"
   ]
  },
  {
   "cell_type": "code",
   "execution_count": 18,
   "metadata": {},
   "outputs": [
    {
     "name": "stdout",
     "output_type": "stream",
     "text": [
      "[[92.8452618 ]\n",
      " [94.61040665]\n",
      " [94.61040665]\n",
      " [99.78410707]\n",
      " [92.8452618 ]\n",
      " [86.75855543]\n",
      " [96.31468444]\n",
      " [84.14127169]\n",
      " [92.8452618 ]\n",
      " [91.08011696]\n",
      " [88.52370028]\n",
      " [94.61040665]\n",
      " [92.8452618 ]\n",
      " [86.75855543]\n",
      " [96.31468444]\n",
      " [92.8452618 ]\n",
      " [87.61069432]\n",
      " [82.43699391]\n",
      " [78.90670421]\n",
      " [88.52370028]\n",
      " [88.52370028]\n",
      " [81.52398795]\n",
      " [96.31468444]\n",
      " [91.99312291]\n",
      " [91.08011696]\n",
      " [92.8452618 ]\n",
      " [94.61040665]\n",
      " [86.75855543]\n",
      " [78.05456532]\n",
      " [84.14127169]\n",
      " [82.43699391]\n",
      " [77.20242642]\n",
      " [87.61069432]\n",
      " [86.75855543]\n",
      " [82.43699391]\n",
      " [77.20242642]\n",
      " [88.52370028]\n",
      " [82.43699391]\n",
      " [87.61069432]\n",
      " [85.90641654]\n",
      " [77.20242642]\n",
      " [85.90641654]\n",
      " [82.43699391]\n",
      " [75.43728158]\n",
      " [81.52398795]\n",
      " [90.22797806]\n",
      " [84.14127169]\n",
      " [82.43699391]\n",
      " [88.52370028]\n",
      " [92.8452618 ]\n",
      " [89.37583917]\n",
      " [88.52370028]\n",
      " [77.20242642]\n",
      " [76.35028753]\n",
      " [92.8452618 ]\n",
      " [84.14127169]\n",
      " [75.43728158]\n",
      " [94.61040665]\n",
      " [88.52370028]\n",
      " [86.75855543]\n",
      " [76.35028753]\n",
      " [78.90670421]\n",
      " [84.14127169]\n",
      " [85.90641654]\n",
      " [75.43728158]\n",
      " [91.08011696]\n",
      " [75.43728158]\n",
      " [78.05456532]\n",
      " [82.43699391]\n",
      " [92.8452618 ]\n",
      " [77.20242642]\n",
      " [31.97819807]\n",
      " [74.58514268]\n",
      " [85.90641654]\n",
      " [73.73300379]\n",
      " [92.8452618 ]\n",
      " [84.14127169]\n",
      " [86.75855543]\n",
      " [80.67184906]\n",
      " [80.67184906]\n",
      " [71.11572005]\n",
      " [77.20242642]\n",
      " [83.2891328 ]\n",
      " [88.52370028]\n",
      " [96.31468444]\n",
      " [88.52370028]\n",
      " [77.20242642]\n",
      " [84.14127169]\n",
      " [78.90670421]\n",
      " [80.67184906]\n",
      " [80.67184906]\n",
      " [80.67184906]\n",
      " [72.81999784]\n",
      " [76.35028753]\n",
      " [78.90670421]\n",
      " [70.26358116]\n",
      " [75.43728158]\n",
      " [66.73329146]\n",
      " [31.97819807]\n",
      " [31.97819807]\n",
      " [31.97819807]\n",
      " [31.97819807]\n",
      " [77.20242642]\n",
      " [31.97819807]\n",
      " [31.97819807]\n",
      " [31.97819807]\n",
      " [31.97819807]\n",
      " [31.97819807]]\n"
     ]
    }
   ],
   "source": [
    "from sklearn import preprocessing\n",
    "\n",
    "## BEGIN SOLUTION\n",
    "# Just use the 'mid_70' column\n",
    "mid_scores = df[['mid_70']]\n",
    "\n",
    "# Use the same method as activity1.2 to scale X\n",
    "scaler = MinMaxScaler()\n",
    "X_scaled_val = scaler.fit_transform(mid_scores)\n",
    "\n",
    "# Print 100 * h(theta0, theta1, X)\n",
    "print(100*h(theta0, theta1, X_scaled_val))\n",
    "## END SOLUTION"
   ]
  },
  {
   "cell_type": "markdown",
   "metadata": {},
   "source": [
    "### Feedback\n",
    "Please provide feedback on this lab.\n",
    "* how would you rate this lab (from 1-10, 10-highest) :10\n",
    "* how can we improve his lab? : This was one of the most interesting labs of the class. However, it would have been helpful if we had time to cover 3.2 in recitation (at least a guide on how to approach it would have been helpful). "
   ]
  },
  {
   "cell_type": "markdown",
   "metadata": {},
   "source": [
    "<div class=\"alert alert-block alert-info\">\n",
    "<h2>Submission Instructions</h2> \n",
    "<b> File Name:</b> Please name the file as your_section_your_netID_lab6.jpynb<br>\n",
    "<b> Submit To: </b> Canvas &rarr; Assignments &rarr; lab6 <br>\n",
    "<b>Warning:</b> Failure to follow directions may result in loss points.<br>\n",
    "</div>"
   ]
  },
  {
   "cell_type": "markdown",
   "metadata": {},
   "source": [
    "Lab Developed by A.D. Gunawardena @ 2020 for CS 439"
   ]
  },
  {
   "cell_type": "code",
   "execution_count": null,
   "metadata": {},
   "outputs": [],
   "source": []
  }
 ],
 "metadata": {
  "kernelspec": {
   "display_name": "Python 3",
   "language": "python",
   "name": "python3"
  },
  "language_info": {
   "codemirror_mode": {
    "name": "ipython",
    "version": 3
   },
   "file_extension": ".py",
   "mimetype": "text/x-python",
   "name": "python",
   "nbconvert_exporter": "python",
   "pygments_lexer": "ipython3",
   "version": "3.8.5"
  }
 },
 "nbformat": 4,
 "nbformat_minor": 2
}
